{
 "cells": [
  {
   "cell_type": "code",
   "execution_count": null,
   "metadata": {},
   "outputs": [],
   "source": [
    "### To speed this up, need to move it to scrapy"
   ]
  },
  {
   "cell_type": "markdown",
   "metadata": {},
   "source": [
    "# Scraper Method"
   ]
  },
  {
   "cell_type": "code",
   "execution_count": 19,
   "metadata": {},
   "outputs": [
    {
     "name": "stdout",
     "output_type": "stream",
     "text": [
      "testtest"
     ]
    }
   ],
   "source": [
    "import sys\n",
    "sys.stdout.write('test')\n",
    "sys.stdout.write('test')"
   ]
  },
  {
   "cell_type": "code",
   "execution_count": 6,
   "metadata": {},
   "outputs": [],
   "source": [
    "import urllib.request\n",
    "import json\n",
    "from collections import defaultdict\n",
    "import random\n",
    "import time\n",
    "from datetime import datetime, timedelta\n",
    "\n",
    "ownerText = 'owner'\n",
    "shortcodeText = 'shortcode'\n",
    "timeText = 'taken_at_timestamp'\n",
    "\n",
    "def getInstagramPosts(startTime, endTime = False):   # Need start time to say if the post if eligible \n",
    "    # Next page: https://www.instagram.com/explore/tags/mightcoulddrawtoday/?__a=1&max_id='endcursor'\n",
    "    # graphql -> hashtag -> edge_hashtag_to_media ->page_info -> end_cursor\n",
    "    \n",
    "    raw_posts = [] #Array to hold all posts\n",
    "    current_posts = []\n",
    "    tag = 'mightcoulddrawtoday'\n",
    "    count = None\n",
    "    end_point = ''\n",
    "    step = 0\n",
    "\n",
    "    print(\"Grabbing posts from online...\")\n",
    "    print(\"Step: \", end=' ')\n",
    "    while True:\n",
    "        try: \n",
    "            step += 1\n",
    "            url = 'https://www.instagram.com/explore/tags/' + tag + '/?__a=1'\n",
    "            if end_point: url += '&max_id=' + end_point\n",
    "\n",
    "            print(step, end=', ')\n",
    "\n",
    "            #Get the data from the site\n",
    "            raw_json = json.loads(urllib.request.urlopen(url).read().decode())\n",
    "\n",
    "            count = raw_json['graphql']['hashtag']['edge_hashtag_to_media']['count']\n",
    "\n",
    "            raw_posts += raw_json['graphql']['hashtag']['edge_hashtag_to_media']['edges']\n",
    "\n",
    "            #Get the end_point, i.e. the next set of images\n",
    "            end_point = raw_json['graphql']['hashtag']['edge_hashtag_to_media']['page_info']['end_cursor']\n",
    "            if not end_point: break #break if this is there isn't another endpoint\n",
    "        except Exception as e:\n",
    "            print(e)\n",
    "            delay = 60\n",
    "            print(\"Sleeping\", delay, \"seconds\")\n",
    "            time.sleep(60)\n",
    "    print('Complete')\n",
    "    \n",
    "    print('Processing posts...')\n",
    "    for post in raw_posts:\n",
    "        if post['node'][timeText] >= startTime:\n",
    "            if endTime == False or post['node'][timeText] < endTime:\n",
    "                owner = post['node'][ownerText]['id']\n",
    "                shortcode = post['node'][shortcodeText]\n",
    "                current_posts.append({ownerText:owner, shortcodeText:shortcode})\n",
    "    # print(json.dumps(all_posts,indent=2))\n",
    "    total_posts=count\n",
    "    \n",
    "    print('Listed number of posts:', total_posts)\n",
    "    print('Total captured posts:', len(raw_posts))\n",
    "    print('Current captured posts:', len(current_posts))\n",
    "    \n",
    "    return current_posts, total_posts\n",
    "\n",
    "def getOwnerPosts(owner, posts):\n",
    "    owner_str = str(owner)\n",
    "    return [post[shortcodeText] for post in posts if post[ownerText] in owner_str]\n",
    "\n",
    "def getOwnerFrequencies(_dict, key):\n",
    "    returnDict = defaultdict(int)\n",
    "    for d in _dict:\n",
    "        returnDict[d[key]] += 1\n",
    "    return returnDict\n",
    "\n",
    "def getEligibleOwners(owner_freq_dict, min_posts=7):\n",
    "    eligible_owners = []\n",
    "    for owner_id in owner_freq_dict:\n",
    "        if owner_freq_dict[owner_id] >= min_posts:\n",
    "            eligible_owners.append(owner_id)\n",
    "    return eligible_owners"
   ]
  },
  {
   "cell_type": "code",
   "execution_count": null,
   "metadata": {},
   "outputs": [],
   "source": [
    "### Get new posts from the internet since the start time\n",
    "startDate = datetime(2018,6,18) #This gives 2/19 as local time\n",
    "startTime = time.mktime(startDate.timetuple()) # Set this to be either Monday or the time the email sent\n",
    "\n",
    "endDate = datetime(2018,6,25) #This gives 2/19 as local time\n",
    "endTime = time.mktime(endDate.timetuple()) # Set this to be either Monday or the time the email sent\n",
    "\n",
    "all_posts, total_posts = getInstagramPosts(startTime, endTime)"
   ]
  },
  {
   "cell_type": "code",
   "execution_count": null,
   "metadata": {},
   "outputs": [],
   "source": [
    "# Make dictionary of owners frequencies\n",
    "owner_freq_dict = getOwnerFrequencies(all_posts, ownerText)\n",
    "\n",
    "# Make list of eligible owners\n",
    "eligible_owners = getEligibleOwners(owner_freq_dict, min_posts=7)\n",
    "\n",
    "# Get the winner\n",
    "winner = random.choice(eligible_owners)\n",
    "\n",
    "# Get the winner's posts\n",
    "winner_posts = getOwnerPosts(winner, all_posts)\n",
    "\n",
    "print('Artists sharing this week: ', len(owner_freq_dict))\n",
    "print('Total posts shared this week:', len(all_posts))\n",
    "print('Total posts shared all time:', total_posts)\n",
    "print('Artists that completed the challenge:', len(eligible_owners))\n",
    "print('Winner:', winner)\n",
    "print('posts:')\n",
    "for post in winner_posts:\n",
    "    print ('https://www.instagram.com/p/' + post + '/')"
   ]
  },
  {
   "cell_type": "code",
   "execution_count": null,
   "metadata": {},
   "outputs": [],
   "source": [
    "owner_freq_dict\n",
    "owner_freq_freq = defaultdict(int)\n",
    "for d in owner_freq_dict:\n",
    "    owner_freq_freq[owner_freq_dict[d]] += 1\n",
    "owner_freq_freq"
   ]
  },
  {
   "cell_type": "code",
   "execution_count": null,
   "metadata": {},
   "outputs": [],
   "source": [
    "all_posts[-1]"
   ]
  },
  {
   "cell_type": "markdown",
   "metadata": {},
   "source": [
    "## Python code to check tags in Instagram"
   ]
  },
  {
   "cell_type": "code",
   "execution_count": null,
   "metadata": {},
   "outputs": [],
   "source": [
    "## Attempt #3\n",
    "import requests\n",
    "import json\n",
    "from bs4 import BeautifulSoup\n",
    "\n",
    "CLIENT_ID = '576b4683462e4f5e9a31f2ea637d9249'\n",
    "CLIENT_SECRET='bc74451779a84f8c88d2d26dc200dea2'\n",
    "REDIRECT_URI='https://www.etymologyexplorer.com/instagramredirect'\n",
    "\n",
    "GRANT_TYPE = 'authorization_code'\n",
    "url = 'https://api.instagram.com/oauth/access_token'\n",
    "\n",
    "session = requests.session()    # use session to handle cookies"
   ]
  },
  {
   "cell_type": "code",
   "execution_count": null,
   "metadata": {},
   "outputs": [],
   "source": [
    "\n",
    "OAuthURL = 'https://api.instagram.com/oauth/authorize/?client_id='+CLIENT_ID+'&redirect_uri='+REDIRECT_URI+'&response_type=code'\n",
    "# OR GO TO THIS URL:\n",
    "#https://api.instagram.com/oauth/authorize/?client_id=576b4683462e4f5e9a31f2ea637d9249&redirect_uri=https://www.etymologyexplorer.com/instagramredirect&response_type=code\n",
    "\n",
    "\n",
    "OAuth_AccessRequest = session.get(OAuthURL)\n",
    "\n",
    "soup = BeautifulSoup(OAuth_AccessRequest.content,\"lxml\")\n",
    "form = soup.form\n",
    "login_data = {form.input.attrs['name'] : form.input['value']}\n",
    "login_data.update({'username': 'declannishiyama', 'password': '7Us%TnL7GAbo'})\n",
    "headers = {'Referer': OAuth_AccessRequest.url}\n",
    "login_url = 'https://instagram.com{}'.format(form.attrs['action'])\n",
    "response = session.post(login_url, data=login_data, headers=headers)\n",
    "soup = BeautifulSoup(response.content, 'lxml')\n",
    "\n",
    "code = soup.input['value'] #Assuming that the returns first \"input\" is the secret code\n",
    "print(soup)\n",
    "print(\"Code:\", code)\n",
    "\n"
   ]
  },
  {
   "cell_type": "code",
   "execution_count": null,
   "metadata": {},
   "outputs": [],
   "source": [
    "code = 'dfc70abf07f5409fafccf22ea9de9e05'\n",
    "\n",
    "data= {'client_id': CLIENT_ID, \n",
    "       'client_secret': CLIENT_SECRET,\n",
    "       'grant_type': GRANT_TYPE,\n",
    "       'redirect_uri': REDIRECT_URI, \n",
    "       'code': code,\n",
    "       'scope': 'public_content'}\n",
    "\n",
    "headers = {'Referer': url}\n",
    "r = session.post(url, data=data, headers=headers)\n",
    "print(r.content)\n",
    "\n",
    "access_token = json.loads(r.content)['access_token']\n",
    "print(access_token)"
   ]
  },
  {
   "cell_type": "markdown",
   "metadata": {
    "collapsed": true
   },
   "source": [
    "# Scraper"
   ]
  },
  {
   "cell_type": "code",
   "execution_count": null,
   "metadata": {},
   "outputs": [],
   "source": []
  },
  {
   "cell_type": "code",
   "execution_count": null,
   "metadata": {},
   "outputs": [],
   "source": []
  }
 ],
 "metadata": {
  "kernelspec": {
   "display_name": "Python 3",
   "language": "python",
   "name": "python3"
  },
  "language_info": {
   "codemirror_mode": {
    "name": "ipython",
    "version": 3
   },
   "file_extension": ".py",
   "mimetype": "text/x-python",
   "name": "python",
   "nbconvert_exporter": "python",
   "pygments_lexer": "ipython3",
   "version": "3.6.4"
  }
 },
 "nbformat": 4,
 "nbformat_minor": 2
}
